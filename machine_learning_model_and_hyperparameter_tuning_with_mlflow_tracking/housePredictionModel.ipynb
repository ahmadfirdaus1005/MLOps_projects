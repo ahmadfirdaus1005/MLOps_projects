{
 "cells": [
  {
   "cell_type": "markdown",
   "id": "b8b34fca",
   "metadata": {},
   "source": [
    "# Machine Learning Project With MLFLOW Tracking\n",
    "## House prediction model use case\n",
    "\n",
    "This project demonstrates how to build a machine learning regression model using `Random Forest` to predict California housing prices. It includes hyperparameter tuning with `GridSearchCV` and experiment tracking with MLflow."
   ]
  },
  {
   "cell_type": "markdown",
   "id": "6d1d55b4",
   "metadata": {},
   "source": [
    "## 🚀 Features\n",
    "\n",
    "- Uses the California Housing dataset from `sklearn.datasets`\n",
    "- Applies RandomForestRegressor for prediction\n",
    "- Performs hyperparameter tuning with `GridSearchCV`\n",
    "- Tracks parameters, metrics, and models using MLflow\n",
    "- Logs models with MLflow Model Registry\n",
    "\n",
    "## 🧪 Experiment Tracking\n",
    "\n",
    "This project uses MLflow to:\n",
    "\n",
    "- Log hyperparameters and model performance (MSE)\n",
    "- Track experiment runs locally or remotely\n",
    "- Log and register models"
   ]
  },
  {
   "cell_type": "code",
   "execution_count": 1,
   "id": "318ca495",
   "metadata": {},
   "outputs": [],
   "source": [
    "# Import libraries\n",
    "import pandas as pd\n",
    "import mlflow\n",
    "import mlflow.sklearn\n",
    "from sklearn.ensemble import RandomForestRegressor\n",
    "from sklearn.model_selection import train_test_split, GridSearchCV\n",
    "from sklearn.metrics import mean_squared_error\n",
    "from sklearn.datasets import fetch_california_housing"
   ]
  },
  {
   "cell_type": "code",
   "execution_count": 2,
   "id": "fcf60e5f",
   "metadata": {},
   "outputs": [
    {
     "data": {
      "text/html": [
       "<div>\n",
       "<style scoped>\n",
       "    .dataframe tbody tr th:only-of-type {\n",
       "        vertical-align: middle;\n",
       "    }\n",
       "\n",
       "    .dataframe tbody tr th {\n",
       "        vertical-align: top;\n",
       "    }\n",
       "\n",
       "    .dataframe thead th {\n",
       "        text-align: right;\n",
       "    }\n",
       "</style>\n",
       "<table border=\"1\" class=\"dataframe\">\n",
       "  <thead>\n",
       "    <tr style=\"text-align: right;\">\n",
       "      <th></th>\n",
       "      <th>MedInc</th>\n",
       "      <th>HouseAge</th>\n",
       "      <th>AveRooms</th>\n",
       "      <th>AveBedrms</th>\n",
       "      <th>Population</th>\n",
       "      <th>AveOccup</th>\n",
       "      <th>Latitude</th>\n",
       "      <th>Longitude</th>\n",
       "    </tr>\n",
       "  </thead>\n",
       "  <tbody>\n",
       "    <tr>\n",
       "      <th>0</th>\n",
       "      <td>8.3252</td>\n",
       "      <td>41.0</td>\n",
       "      <td>6.984127</td>\n",
       "      <td>1.023810</td>\n",
       "      <td>322.0</td>\n",
       "      <td>2.555556</td>\n",
       "      <td>37.88</td>\n",
       "      <td>-122.23</td>\n",
       "    </tr>\n",
       "    <tr>\n",
       "      <th>1</th>\n",
       "      <td>8.3014</td>\n",
       "      <td>21.0</td>\n",
       "      <td>6.238137</td>\n",
       "      <td>0.971880</td>\n",
       "      <td>2401.0</td>\n",
       "      <td>2.109842</td>\n",
       "      <td>37.86</td>\n",
       "      <td>-122.22</td>\n",
       "    </tr>\n",
       "    <tr>\n",
       "      <th>2</th>\n",
       "      <td>7.2574</td>\n",
       "      <td>52.0</td>\n",
       "      <td>8.288136</td>\n",
       "      <td>1.073446</td>\n",
       "      <td>496.0</td>\n",
       "      <td>2.802260</td>\n",
       "      <td>37.85</td>\n",
       "      <td>-122.24</td>\n",
       "    </tr>\n",
       "    <tr>\n",
       "      <th>3</th>\n",
       "      <td>5.6431</td>\n",
       "      <td>52.0</td>\n",
       "      <td>5.817352</td>\n",
       "      <td>1.073059</td>\n",
       "      <td>558.0</td>\n",
       "      <td>2.547945</td>\n",
       "      <td>37.85</td>\n",
       "      <td>-122.25</td>\n",
       "    </tr>\n",
       "    <tr>\n",
       "      <th>4</th>\n",
       "      <td>3.8462</td>\n",
       "      <td>52.0</td>\n",
       "      <td>6.281853</td>\n",
       "      <td>1.081081</td>\n",
       "      <td>565.0</td>\n",
       "      <td>2.181467</td>\n",
       "      <td>37.85</td>\n",
       "      <td>-122.25</td>\n",
       "    </tr>\n",
       "  </tbody>\n",
       "</table>\n",
       "</div>"
      ],
      "text/plain": [
       "   MedInc  HouseAge  AveRooms  AveBedrms  Population  AveOccup  Latitude  \\\n",
       "0  8.3252      41.0  6.984127   1.023810       322.0  2.555556     37.88   \n",
       "1  8.3014      21.0  6.238137   0.971880      2401.0  2.109842     37.86   \n",
       "2  7.2574      52.0  8.288136   1.073446       496.0  2.802260     37.85   \n",
       "3  5.6431      52.0  5.817352   1.073059       558.0  2.547945     37.85   \n",
       "4  3.8462      52.0  6.281853   1.081081       565.0  2.181467     37.85   \n",
       "\n",
       "   Longitude  \n",
       "0    -122.23  \n",
       "1    -122.22  \n",
       "2    -122.24  \n",
       "3    -122.25  \n",
       "4    -122.25  "
      ]
     },
     "execution_count": 2,
     "metadata": {},
     "output_type": "execute_result"
    }
   ],
   "source": [
    "# Load the California Housing dataset\n",
    "housing = fetch_california_housing()\n",
    "\n",
    "# Convert dataset into a pandas DataFrame\n",
    "df = pd.DataFrame(data=housing.data, columns=housing.feature_names)\n",
    "df.head()  # Preview the first few rows of the data"
   ]
  },
  {
   "cell_type": "code",
   "execution_count": 3,
   "id": "1d4c9402",
   "metadata": {},
   "outputs": [
    {
     "data": {
      "text/html": [
       "<div>\n",
       "<style scoped>\n",
       "    .dataframe tbody tr th:only-of-type {\n",
       "        vertical-align: middle;\n",
       "    }\n",
       "\n",
       "    .dataframe tbody tr th {\n",
       "        vertical-align: top;\n",
       "    }\n",
       "\n",
       "    .dataframe thead th {\n",
       "        text-align: right;\n",
       "    }\n",
       "</style>\n",
       "<table border=\"1\" class=\"dataframe\">\n",
       "  <thead>\n",
       "    <tr style=\"text-align: right;\">\n",
       "      <th></th>\n",
       "      <th>MedInc</th>\n",
       "      <th>HouseAge</th>\n",
       "      <th>AveRooms</th>\n",
       "      <th>AveBedrms</th>\n",
       "      <th>Population</th>\n",
       "      <th>AveOccup</th>\n",
       "      <th>Latitude</th>\n",
       "      <th>Longitude</th>\n",
       "      <th>price</th>\n",
       "    </tr>\n",
       "  </thead>\n",
       "  <tbody>\n",
       "    <tr>\n",
       "      <th>0</th>\n",
       "      <td>8.3252</td>\n",
       "      <td>41.0</td>\n",
       "      <td>6.984127</td>\n",
       "      <td>1.023810</td>\n",
       "      <td>322.0</td>\n",
       "      <td>2.555556</td>\n",
       "      <td>37.88</td>\n",
       "      <td>-122.23</td>\n",
       "      <td>4.526</td>\n",
       "    </tr>\n",
       "    <tr>\n",
       "      <th>1</th>\n",
       "      <td>8.3014</td>\n",
       "      <td>21.0</td>\n",
       "      <td>6.238137</td>\n",
       "      <td>0.971880</td>\n",
       "      <td>2401.0</td>\n",
       "      <td>2.109842</td>\n",
       "      <td>37.86</td>\n",
       "      <td>-122.22</td>\n",
       "      <td>3.585</td>\n",
       "    </tr>\n",
       "    <tr>\n",
       "      <th>2</th>\n",
       "      <td>7.2574</td>\n",
       "      <td>52.0</td>\n",
       "      <td>8.288136</td>\n",
       "      <td>1.073446</td>\n",
       "      <td>496.0</td>\n",
       "      <td>2.802260</td>\n",
       "      <td>37.85</td>\n",
       "      <td>-122.24</td>\n",
       "      <td>3.521</td>\n",
       "    </tr>\n",
       "    <tr>\n",
       "      <th>3</th>\n",
       "      <td>5.6431</td>\n",
       "      <td>52.0</td>\n",
       "      <td>5.817352</td>\n",
       "      <td>1.073059</td>\n",
       "      <td>558.0</td>\n",
       "      <td>2.547945</td>\n",
       "      <td>37.85</td>\n",
       "      <td>-122.25</td>\n",
       "      <td>3.413</td>\n",
       "    </tr>\n",
       "    <tr>\n",
       "      <th>4</th>\n",
       "      <td>3.8462</td>\n",
       "      <td>52.0</td>\n",
       "      <td>6.281853</td>\n",
       "      <td>1.081081</td>\n",
       "      <td>565.0</td>\n",
       "      <td>2.181467</td>\n",
       "      <td>37.85</td>\n",
       "      <td>-122.25</td>\n",
       "      <td>3.422</td>\n",
       "    </tr>\n",
       "  </tbody>\n",
       "</table>\n",
       "</div>"
      ],
      "text/plain": [
       "   MedInc  HouseAge  AveRooms  AveBedrms  Population  AveOccup  Latitude  \\\n",
       "0  8.3252      41.0  6.984127   1.023810       322.0  2.555556     37.88   \n",
       "1  8.3014      21.0  6.238137   0.971880      2401.0  2.109842     37.86   \n",
       "2  7.2574      52.0  8.288136   1.073446       496.0  2.802260     37.85   \n",
       "3  5.6431      52.0  5.817352   1.073059       558.0  2.547945     37.85   \n",
       "4  3.8462      52.0  6.281853   1.081081       565.0  2.181467     37.85   \n",
       "\n",
       "   Longitude  price  \n",
       "0    -122.23  4.526  \n",
       "1    -122.22  3.585  \n",
       "2    -122.24  3.521  \n",
       "3    -122.25  3.413  \n",
       "4    -122.25  3.422  "
      ]
     },
     "execution_count": 3,
     "metadata": {},
     "output_type": "execute_result"
    }
   ],
   "source": [
    "# Add target variable (house prices) to the DataFrame\n",
    "df['price'] = housing.target\n",
    "df.head()  # Check that 'price' column has been added"
   ]
  },
  {
   "cell_type": "markdown",
   "id": "ebbdfa33",
   "metadata": {},
   "source": [
    "## Model Training, Hyperparameter Tuning, and MLflow Tracking"
   ]
  },
  {
   "cell_type": "code",
   "execution_count": 4,
   "id": "d2a1279f",
   "metadata": {},
   "outputs": [],
   "source": [
    "from urllib.parse import urlparse\n",
    "\n",
    "# Separate features (X) and target (y)\n",
    "X = df.drop(columns=['price'])  # Features\n",
    "y = df['price']                 # Target variable"
   ]
  },
  {
   "cell_type": "code",
   "execution_count": 5,
   "id": "8e39ab10",
   "metadata": {},
   "outputs": [],
   "source": [
    "# Define a function to perform hyperparameter tuning using GridSearchCV\n",
    "def hyperparameter_tuning(X_train, y_train, param_grid):\n",
    "    rf = RandomForestRegressor()  # Initialize Random Forest Regressor\n",
    "    # Perform grid search with cross-validation\n",
    "    grid_search = GridSearchCV(estimator=rf, param_grid=param_grid, cv=3, n_jobs=-1, verbose=2,\n",
    "                               scoring='neg_mean_squared_error')\n",
    "    grid_search.fit(X_train, y_train)  # Fit on training data\n",
    "    return grid_search  # Return the best model"
   ]
  },
  {
   "cell_type": "code",
   "execution_count": 6,
   "id": "6b95fe8f",
   "metadata": {},
   "outputs": [],
   "source": [
    "# Split the data into training and testing sets (80% train, 20% test)\n",
    "X_train, X_test, y_train, y_test = train_test_split(X, y, test_size=0.2, random_state=42)"
   ]
  },
  {
   "cell_type": "code",
   "execution_count": 7,
   "id": "c5018686",
   "metadata": {},
   "outputs": [],
   "source": [
    "# Infer model signature for model logging (used by MLflow)\n",
    "from mlflow.models import infer_signature\n",
    "signature = infer_signature(X_train, y_train)"
   ]
  },
  {
   "cell_type": "code",
   "execution_count": 8,
   "id": "45589e9c",
   "metadata": {},
   "outputs": [],
   "source": [
    "# Define the grid of hyperparameters to search\n",
    "param_grid = {\n",
    "    'n_estimators': [100, 200],          # Number of trees in the forest\n",
    "    'max_depth': [5, 10, None],          # Max depth of each tree\n",
    "    'min_samples_split': [2, 5],         # Min samples required to split an internal node\n",
    "    'min_samples_leaf': [1, 2]           # Min samples required to be at a leaf node\n",
    "}\n"
   ]
  },
  {
   "cell_type": "code",
   "execution_count": 9,
   "id": "f5a1fa51",
   "metadata": {},
   "outputs": [
    {
     "name": "stdout",
     "output_type": "stream",
     "text": [
      "Fitting 3 folds for each of 24 candidates, totalling 72 fits\n"
     ]
    },
    {
     "name": "stderr",
     "output_type": "stream",
     "text": [
      "2025/04/20 11:34:05 WARNING mlflow.models.model: Model logged without a signature and input example. Please set `input_example` parameter when logging the model to auto infer the model signature.\n",
      "Successfully registered model 'best random forest model'.\n",
      "2025/04/20 11:34:09 INFO mlflow.store.model_registry.abstract_store: Waiting up to 300 seconds for model version to finish creation. Model name: best random forest model, version 1\n",
      "Created version '1' of model 'best random forest model'.\n"
     ]
    },
    {
     "name": "stdout",
     "output_type": "stream",
     "text": [
      "best hyperparameters: {'max_depth': None, 'min_samples_leaf': 2, 'min_samples_split': 2, 'n_estimators': 200}\n",
      "best model mse: 0.2520703283178117\n",
      "🏃 View run popular-donkey-720 at: http://127.0.0.1:5000/#/experiments/0/runs/f4afc28c9e0c42c190fc7e01cb4ec49b\n",
      "🧪 View experiment at: http://127.0.0.1:5000/#/experiments/0\n"
     ]
    }
   ],
   "source": [
    "# Start an MLflow run to track the experiment\n",
    "with mlflow.start_run():\n",
    "    # Perform hyperparameter tuning using the training set\n",
    "    grid_search = hyperparameter_tuning(X_train, y_train, param_grid)\n",
    "    \n",
    "    # Get the best estimator (model) from the grid search\n",
    "    best_model = grid_search.best_estimator_\n",
    "    \n",
    "    # Predict on the test set and evaluate performance\n",
    "    y_pred = best_model.predict(X_test)\n",
    "    mse = mean_squared_error(y_test, y_pred)  # Calculate Mean Squared Error\n",
    "\n",
    "    # Log the best model's hyperparameters to MLflow\n",
    "    mlflow.log_param(\"best_n_estimators\", grid_search.best_params_[\"n_estimators\"])\n",
    "    mlflow.log_param(\"best_max_depth\", grid_search.best_params_[\"max_depth\"])\n",
    "    mlflow.log_param(\"best_min_samples_split\", grid_search.best_params_[\"min_samples_split\"])\n",
    "    mlflow.log_param(\"best_min_samples_leaf\", grid_search.best_params_[\"min_samples_leaf\"])\n",
    "\n",
    "    # Log the evaluation metric (MSE) to MLflow\n",
    "    mlflow.log_metric(\"mse\", mse)\n",
    "\n",
    "    # Set MLflow tracking URI (where to store experiment logs)\n",
    "    mlflow.set_tracking_uri(uri=\"http://127.0.0.1:5000\")\n",
    "    tracking_url_type_store = urlparse(mlflow.get_tracking_uri()).scheme\n",
    "\n",
    "    # Log the trained model\n",
    "    if tracking_url_type_store != \"file\":\n",
    "        # Register the model if tracking server is not local file\n",
    "        mlflow.sklearn.log_model(best_model, \"model\", registered_model_name=\"best random forest model\")\n",
    "    else:\n",
    "        # Otherwise, log the model without registering, including the model signature\n",
    "        mlflow.sklearn.log_model(best_model, \"model\", signature=signature)\n",
    "\n",
    "    # Print out best hyperparameters and model performance\n",
    "    print(f\"best hyperparameters: {grid_search.best_params_}\")\n",
    "    print(f\"best model mse: {mse}\")"
   ]
  },
  {
   "cell_type": "markdown",
   "id": "7d6164c2",
   "metadata": {},
   "source": []
  }
 ],
 "metadata": {
  "kernelspec": {
   "display_name": "Python 3",
   "language": "python",
   "name": "python3"
  },
  "language_info": {
   "codemirror_mode": {
    "name": "ipython",
    "version": 3
   },
   "file_extension": ".py",
   "mimetype": "text/x-python",
   "name": "python",
   "nbconvert_exporter": "python",
   "pygments_lexer": "ipython3",
   "version": "3.10.0"
  }
 },
 "nbformat": 4,
 "nbformat_minor": 5
}
